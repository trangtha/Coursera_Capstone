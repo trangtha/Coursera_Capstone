{
 "cells": [
  {
   "cell_type": "markdown",
   "metadata": {},
   "source": [
    "# Capstone Project - The Battle of the Neighborhoods (Week 1)"
   ]
  },
  {
   "cell_type": "markdown",
   "metadata": {},
   "source": [
    "## Table of contents\n",
    "* [Introduction/Business Problem](#introduction)\n",
    "* [Data](#data)"
   ]
  },
  {
   "cell_type": "markdown",
   "metadata": {},
   "source": [
    "## Introduction/Business Problem <a name=\"introduction\"></a>"
   ]
  },
  {
   "cell_type": "markdown",
   "metadata": {},
   "source": [
    "Suppose an investor is interested in opening a restaurant in the upcoming district Ballard in Seattle. He would like to get some data-driven recommendation about the location/neighborhood and profitable types of cuisine for his new restaurant. In this project, we will investigate neighborhoods in Ballard, assess the food scene and the characteristics of the population in each neighborhood so that we can offer informative suggestion to the investor."
   ]
  },
  {
   "cell_type": "markdown",
   "metadata": {},
   "source": [
    "## Data <a name=\"data\"></a>"
   ]
  },
  {
   "cell_type": "markdown",
   "metadata": {},
   "source": [
    "Using Geographic Files listed under Office of Planning & Community Development on the official state website, we are able to extract information about main areas in Seattle. Specifically, we get groups of districts and lists of neighborhoods in each district. Moreover, the Census tracts attached to each neighborhoods allow us to join in the longtitudes and the latitudes stored in a Census file on the official GIS state data website.\n",
    "\n",
    "We will utilize Foursquare location data to study all the restaurants in Ballard. The number of restaurants, their type of cuisine, and their location are critical information for our analysis.\n",
    "\n",
    "Furthermore, to understand what might attract the locals, we will look at some demographic attributes of each neighborhood given by the Areas Profile Community Report on the official GIS state data website. Some population characteristics that we will consider include the average age, the population density, and the average income in each household. "
   ]
  }
 ],
 "metadata": {
  "kernelspec": {
   "display_name": "Python 3",
   "language": "python",
   "name": "python3"
  },
  "language_info": {
   "codemirror_mode": {
    "name": "ipython",
    "version": 3
   },
   "file_extension": ".py",
   "mimetype": "text/x-python",
   "name": "python",
   "nbconvert_exporter": "python",
   "pygments_lexer": "ipython3",
   "version": "3.7.1"
  }
 },
 "nbformat": 4,
 "nbformat_minor": 2
}
